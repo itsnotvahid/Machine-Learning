{
 "cells": [
  {
   "cell_type": "markdown",
   "id": "d2c99014",
   "metadata": {
    "tags": []
   },
   "source": [
    "## Imports\n",
    "\n",
    "In this code cell, we import libraries"
   ]
  },
  {
   "cell_type": "code",
   "execution_count": 1,
   "id": "2ccd742a",
   "metadata": {},
   "outputs": [],
   "source": [
    "import numpy as np\n",
    "import matplotlib.pyplot as plt\n",
    "from sklearn.datasets import make_regression\n",
    "import pandas as pd"
   ]
  },
  {
   "cell_type": "markdown",
   "id": "f41bd475-3aa8-4dd1-a00b-75d1adc88a5f",
   "metadata": {},
   "source": [
    "## Linear Regression with Gradient Descent\n",
    "\n",
    "This section explores the implementation of linear regression using gradient descent in Python.\n",
    "\n",
    "**1. Linear Regression Model**\n",
    "\n",
    "Linear regression is a supervised learning algorithm that models the relationship between a dependent variable (y) and one or more independent variables (x) using a linear equation:\n",
    "\n",
    "\n",
    "y_hat = w1 * x + w0\n",
    "\n",
    "\n",
    "where:\n",
    "\n",
    "* `y_hat`: Predicted value of the dependent variable\n",
    "* `x`: Independent variable(s)\n",
    "* `w1`: Slope of the line\n",
    "* `w0`: Y-intercept\n",
    "\n",
    "The goal is to find the optimal values of `w1` and `w0` that minimize the difference between the predicted values (`y_hat`) and the actual values (`y`) of the dependent variable.\n",
    "\n",
    "**2. Mean Squared Error (MSE) Loss Function**\n",
    "\n",
    "A common measure of this difference is the Mean Squared Error (MSE) loss function\n",
    "\n",
    "###### MSE = (1/n) * Σ((y_hat - y)^2)\n",
    "\n",
    "\n",
    "where:\n",
    "\n",
    "* `n`: Number of data points\n",
    "\n",
    "The MSE calculates the average squared difference between the predicted and actual values. During training, we aim to minimize this loss function to improve the model's accuracy.\n",
    "\n",
    "**3. Gradient Descent Algorithm**\n",
    "\n",
    "Gradient descent is an iterative optimization algorithm used to minimize a function (like the MSE loss function). It works by repeatedly adjusting the model parameters (`w1` and `w0`) in the direction of steepest descent, which leads to a decrease in the loss function.\n",
    "\n",
    "The update rule for gradient descent is:\n",
    "\n",
    "where:\n",
    "\n",
    "* `parameter_new`: Updated value of the parameter\n",
    "* `parameter_old`: Current value of the parameter\n",
    "* `learning_rate`: Controls the step size during updates (a small value prevents overshooting)\n",
    "* `gradient`: Slope of the loss function with respect to the parameter (indicates the direction of steepest descent)\n",
    "\n",
    "\n",
    "\n",
    "#### Gradients for Linear Regression with MSE Loss:\n",
    " \n",
    "##### Gradient for w0:\n",
    "\n",
    "Taking the partial derivative of the MSE loss function with respect to w0 (denoted by ∂MSE/∂w0), we get:\n",
    "\n",
    "###### ∂MSE/∂w0 = (2/n) * Σ(y_hat - y)\n",
    "\n",
    "##### Gradient for w1:\n",
    "\n",
    "Taking the partial derivative of the MSE loss function with respect to w1 (denoted by ∂MSE/∂w1), we get:\n",
    "\n",
    "###### ∂MSE/∂w1 = (2/n) * Σ(x * (y_hat - y))\n"
   ]
  },
  {
   "cell_type": "code",
   "execution_count": 2,
   "id": "cec84328-e51d-47f4-9f3e-8d8d50ccae94",
   "metadata": {},
   "outputs": [],
   "source": [
    "class LinearRegression:\n",
    "    def __init__(self, w0=None, w1=None):\n",
    "        if w0 is None and w1 is None:\n",
    "            self.w0 = np.random.randn()\n",
    "            self.w1 = np.random.randn()\n",
    "    \n",
    "    def fit(self, x, y, epochs=100, lr=0.1, return_weights=False):\n",
    "        \n",
    "        for i in range(epochs):\n",
    "            y_hat = self.predict(x)\n",
    "            loss = self.loss_function(y_hat, y)\n",
    "            if loss <= 1e-10:\n",
    "                print('Fit Compelete')\n",
    "                break\n",
    "            w0_grad = 2 * np.mean(y_hat - y)\n",
    "            w1_grad = 2 * np.mean(x * (y_hat - y))\n",
    "\n",
    "            self.w0 -= lr * w0_grad\n",
    "            self.w1 -= lr * w1_grad\n",
    "            \n",
    "        if return_weights:\n",
    "            return w0, w1\n",
    "\n",
    "    def predict(self, x):\n",
    "        return self.w1*x + self.w0\n",
    "\n",
    "    def loss_function(self, y_hat, y):\n",
    "        return np.mean((y_hat - y) ** 2)\n",
    "    "
   ]
  },
  {
   "cell_type": "code",
   "execution_count": 3,
   "id": "58d55c6a",
   "metadata": {},
   "outputs": [],
   "source": [
    "# created a regression problem with sklearn make_regression\n",
    "x, y = make_regression(n_samples=100, n_features=1, random_state=98)\n",
    "x, y = x.squeeze(), y.squeeze()"
   ]
  },
  {
   "cell_type": "code",
   "execution_count": 4,
   "id": "261adc32",
   "metadata": {
    "scrolled": true
   },
   "outputs": [
    {
     "name": "stdout",
     "output_type": "stream",
     "text": [
      "Fit Compelete\n"
     ]
    }
   ],
   "source": [
    "linear_regression = LinearRegression()\n",
    "linear_regression.fit(x, y, epochs=500, lr=0.2)"
   ]
  },
  {
   "cell_type": "code",
   "execution_count": 5,
   "id": "fb18e514",
   "metadata": {},
   "outputs": [
    {
     "data": {
      "text/plain": [
       "[<matplotlib.lines.Line2D at 0x2726a250e20>]"
      ]
     },
     "execution_count": 5,
     "metadata": {},
     "output_type": "execute_result"
    },
    {
     "data": {
      "image/png": "[encoded data removed]",
      "text/plain": [
       "<Figure size 640x480 with 1 Axes>"
      ]
     },
     "metadata": {},
     "output_type": "display_data"
    }
   ],
   "source": [
    "plt.scatter(x, y)\n",
    "plt.plot(x, linear_regression.predict(x))"
   ]
  },
  {
   "cell_type": "code",
   "execution_count": null,
   "id": "119351eb",
   "metadata": {},
   "outputs": [],
   "source": []
  }
 ],
 "metadata": {
  "kernelspec": {
   "display_name": "Python 3 (ipykernel)",
   "language": "python",
   "name": "python3"
  },
  "language_info": {
   "codemirror_mode": {
    "name": "ipython",
    "version": 3
   },
   "file_extension": ".py",
   "mimetype": "text/x-python",
   "name": "python",
   "nbconvert_exporter": "python",
   "pygments_lexer": "ipython3",
   "version": "3.10.9"
  }
 },
 "nbformat": 4,
 "nbformat_minor": 5
}
